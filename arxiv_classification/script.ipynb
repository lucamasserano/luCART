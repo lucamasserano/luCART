{
 "cells": [
  {
   "cell_type": "code",
   "execution_count": 1,
   "metadata": {},
   "outputs": [],
   "source": [
    "from scrape_write import *\n",
    "from preprocess import *"
   ]
  },
  {
   "cell_type": "markdown",
   "metadata": {},
   "source": [
    "## Scrape and write"
   ]
  },
  {
   "cell_type": "code",
   "execution_count": 2,
   "metadata": {},
   "outputs": [
    {
     "name": "stdin",
     "output_type": "stream",
     "text": [
      "hostname:  sculptor.stat.cmu.edu\n",
      "port (press Enter to default to 5432):  \n",
      "username:  ········\n",
      "password:  ·········\n",
      "database:  lmassera\n"
     ]
    },
    {
     "name": "stdout",
     "output_type": "stream",
     "text": [
      "Don't forget to close the connection when you are done\n"
     ]
    }
   ],
   "source": [
    "connection = connect()"
   ]
  },
  {
   "cell_type": "code",
   "execution_count": 3,
   "metadata": {},
   "outputs": [],
   "source": [
    "create_table(connection=connection, table_name=\"arxiv_papers\")"
   ]
  },
  {
   "cell_type": "code",
   "execution_count": 5,
   "metadata": {},
   "outputs": [
    {
     "name": "stdout",
     "output_type": "stream",
     "text": [
      "[1] \"astro-ph.GA paper count for given date range: 5548. Retrieving in portions of 1000 papers per iteration\"\n"
     ]
    },
    {
     "name": "stderr",
     "output_type": "stream",
     "text": [
      "R[write to console]: retrieved batch 1\n",
      "\n",
      "R[write to console]: retrieved batch 2\n",
      "\n"
     ]
    },
    {
     "name": "stdout",
     "output_type": "stream",
     "text": [
      "[1] \"Sleeping for 10 seconds before iteration nº 1\"\n"
     ]
    },
    {
     "name": "stderr",
     "output_type": "stream",
     "text": [
      "R[write to console]: retrieved batch 1\n",
      "\n",
      "R[write to console]: retrieved batch 2\n",
      "\n"
     ]
    },
    {
     "name": "stdout",
     "output_type": "stream",
     "text": [
      "[1] \"Sleeping for 10 seconds before iteration nº 2\"\n"
     ]
    },
    {
     "name": "stderr",
     "output_type": "stream",
     "text": [
      "R[write to console]: retrieved batch 1\n",
      "\n",
      "R[write to console]: retrieved batch 2\n",
      "\n"
     ]
    },
    {
     "name": "stdout",
     "output_type": "stream",
     "text": [
      "[1] \"Sleeping for 10 seconds before iteration nº 3\"\n"
     ]
    },
    {
     "name": "stderr",
     "output_type": "stream",
     "text": [
      "R[write to console]: retrieved batch 1\n",
      "\n",
      "R[write to console]: retrieved batch 2\n",
      "\n"
     ]
    },
    {
     "name": "stdout",
     "output_type": "stream",
     "text": [
      "[1] \"Sleeping for 10 seconds before iteration nº 4\"\n"
     ]
    },
    {
     "name": "stderr",
     "output_type": "stream",
     "text": [
      "R[write to console]: retrieved batch 1\n",
      "\n"
     ]
    },
    {
     "name": "stdout",
     "output_type": "stream",
     "text": [
      "[1] \"Sleeping for 10 seconds before iteration nº 5\"\n"
     ]
    },
    {
     "name": "stderr",
     "output_type": "stream",
     "text": [
      "R[write to console]: retrieved batch 1\n",
      "\n",
      "R[write to console]: retrieved batch 2\n",
      "\n"
     ]
    },
    {
     "name": "stdout",
     "output_type": "stream",
     "text": [
      "[1] \"stat.TH paper count for given date range: 1910. Retrieving in portions of 1000 papers per iteration\"\n"
     ]
    },
    {
     "name": "stderr",
     "output_type": "stream",
     "text": [
      "R[write to console]: retrieved batch 1\n",
      "\n",
      "R[write to console]: retrieved batch 2\n",
      "\n"
     ]
    },
    {
     "name": "stdout",
     "output_type": "stream",
     "text": [
      "[1] \"Sleeping for 10 seconds before iteration nº 1\"\n"
     ]
    },
    {
     "name": "stderr",
     "output_type": "stream",
     "text": [
      "R[write to console]: retrieved batch 1\n",
      "\n",
      "R[write to console]: retrieved batch 2\n",
      "\n"
     ]
    }
   ],
   "source": [
    "df = scrape_and_write(categories=[\"astro-ph.GA\", \"stat.TH\"], start_date=\"20191201\", end_date=\"20201201\", \n",
    "                      table_name=\"arxiv_papers\", csv_folder_path=\"./\", write_db=True, connection=connection)"
   ]
  },
  {
   "cell_type": "code",
   "execution_count": 7,
   "metadata": {},
   "outputs": [
    {
     "data": {
      "text/plain": [
       "array(['astro-ph.GA', 'stat.TH'], dtype=object)"
      ]
     },
     "execution_count": 7,
     "metadata": {},
     "output_type": "execute_result"
    }
   ],
   "source": [
    "df.arxiv_category.unique()"
   ]
  },
  {
   "cell_type": "code",
   "execution_count": 8,
   "metadata": {},
   "outputs": [
    {
     "data": {
      "text/plain": [
       "(4045, 2)"
      ]
     },
     "execution_count": 8,
     "metadata": {},
     "output_type": "execute_result"
    }
   ],
   "source": [
    "df[df.arxiv_category == 'astro-ph.GA'].shape"
   ]
  },
  {
   "cell_type": "code",
   "execution_count": 9,
   "metadata": {},
   "outputs": [
    {
     "data": {
      "text/plain": [
       "(1499, 2)"
      ]
     },
     "execution_count": 9,
     "metadata": {},
     "output_type": "execute_result"
    }
   ],
   "source": [
    "df[df.arxiv_category == 'stat.TH'].shape"
   ]
  },
  {
   "cell_type": "code",
   "execution_count": 10,
   "metadata": {},
   "outputs": [
    {
     "data": {
      "text/plain": [
       "'  [DBS2003]179 is a super star cluster in the Galaxy discovered by deep near\\ninfrared observations. We carried out CO J=1-0 and J=3-2 observations of the\\nregion of [DBS2003]179 with NANTEN2, ASTE and the Mopra 22m telescope. We\\nidentified and mapped two molecular clouds which are likely associated with the\\ncluster. The association is evidenced by the spatial correlation with the 8\\nmicron Spitzer image, and a high ratio of the two transitions of 12CO (J=3-2 to\\nJ=1-0). The two clouds show complementary distribution in space and bridge\\nfeatures connecting them in velocity. We frame a hypothesis that the two clouds\\ncollided with each other 1-2 Myr ago, and the collision compressed the\\ninterface layer, triggering the formation of the cluster. This offers an\\nadditional piece of evidence for a super star cluster formed by cloud--cloud\\ncollision alongside of the four super star clusters including Wd2, NGC3603,\\nRCW38 and R136. The findings indicate that the known super star clusters having\\nclosely associated dust emission are formed by cloud-cloud collision, lending\\nsupport for the important role of cloud--cloud collision in high-mass star\\nformation.\\n'"
      ]
     },
     "execution_count": 10,
     "metadata": {},
     "output_type": "execute_result"
    }
   ],
   "source": [
    "df.loc[0,\"arxiv_abstract\"]"
   ]
  },
  {
   "cell_type": "markdown",
   "metadata": {},
   "source": [
    "## Preprocess"
   ]
  },
  {
   "cell_type": "markdown",
   "metadata": {},
   "source": [
    "At this point we can either use the df above or query the PostgreSQL DB to obtain the desired categories"
   ]
  },
  {
   "cell_type": "code",
   "execution_count": 11,
   "metadata": {},
   "outputs": [],
   "source": [
    "df = preliminary_preprocessing(df)"
   ]
  },
  {
   "cell_type": "code",
   "execution_count": 13,
   "metadata": {},
   "outputs": [
    {
     "data": {
      "text/plain": [
       "'[dbs0]0 is a super star cluster in the galaxy discovered by deep near infrared observations. we carried out co j=0-0 and j=0-0 observations of the region of [dbs0]0 with nanten0, aste and the mopra 0m telescope. we identified and mapped two molecular clouds which are likely associated with the cluster. the association is evidenced by the spatial correlation with the 0 micron spitzer image, and a high ratio of the two transitions of 0co (j=0-0 to j=0-0). the two clouds show complementary distribution in space and bridge features connecting them in velocity. we frame a hypothesis that the two clouds collided with each other 0-0 myr ago, and the collision compressed the interface layer, triggering the formation of the cluster. this offers an additional piece of evidence for a super star cluster formed by cloud--cloud collision alongside of the four super star clusters including wd0, ngc0, rcw0 and r0. the findings indicate that the known super star clusters having closely associated dust emission are formed by cloud-cloud collision, lending support for the important role of cloud--cloud collision in high-mass star formation.'"
      ]
     },
     "execution_count": 13,
     "metadata": {},
     "output_type": "execute_result"
    }
   ],
   "source": [
    "df.loc[0,\"arxiv_abstract\"]"
   ]
  },
  {
   "cell_type": "code",
   "execution_count": 14,
   "metadata": {},
   "outputs": [
    {
     "name": "stderr",
     "output_type": "stream",
     "text": [
      "100%|██████████| 5544/5544 [04:49<00:00, 19.15it/s]\n"
     ]
    }
   ],
   "source": [
    "df = lemmatization(df)"
   ]
  },
  {
   "cell_type": "code",
   "execution_count": 15,
   "metadata": {
    "scrolled": true
   },
   "outputs": [
    {
     "data": {
      "text/plain": [
       "['dbs0]0',\n",
       " 'super',\n",
       " 'star',\n",
       " 'cluster',\n",
       " 'the',\n",
       " 'galaxy',\n",
       " 'discover',\n",
       " 'deep',\n",
       " 'near',\n",
       " 'infrared',\n",
       " 'observation',\n",
       " 'carry',\n",
       " 'out',\n",
       " 'j=0',\n",
       " 'and',\n",
       " 'j=0',\n",
       " 'observation',\n",
       " 'the',\n",
       " 'region',\n",
       " 'dbs0]0',\n",
       " 'with',\n",
       " 'nanten0',\n",
       " 'aste',\n",
       " 'and',\n",
       " 'the',\n",
       " 'mopra',\n",
       " 'telescope',\n",
       " 'identify',\n",
       " 'and',\n",
       " 'map',\n",
       " 'two',\n",
       " 'molecular',\n",
       " 'cloud',\n",
       " 'which',\n",
       " 'be',\n",
       " 'likely',\n",
       " 'associate',\n",
       " 'with',\n",
       " 'the',\n",
       " 'cluster',\n",
       " 'the',\n",
       " 'association',\n",
       " 'evidence',\n",
       " 'the',\n",
       " 'spatial',\n",
       " 'correlation',\n",
       " 'with',\n",
       " 'the',\n",
       " 'micron',\n",
       " 'spitzer',\n",
       " 'image',\n",
       " 'and',\n",
       " 'high',\n",
       " 'ratio',\n",
       " 'the',\n",
       " 'two',\n",
       " 'transition',\n",
       " '0co',\n",
       " 'j=0',\n",
       " 'j=0',\n",
       " 'the',\n",
       " 'two',\n",
       " 'cloud',\n",
       " 'show',\n",
       " 'complementary',\n",
       " 'distribution',\n",
       " 'space',\n",
       " 'and',\n",
       " 'bridge',\n",
       " 'feature',\n",
       " 'connect',\n",
       " '-PRON-',\n",
       " 'velocity',\n",
       " 'frame',\n",
       " 'hypothesis',\n",
       " 'that',\n",
       " 'the',\n",
       " 'two',\n",
       " 'cloud',\n",
       " 'collide',\n",
       " 'with',\n",
       " 'each',\n",
       " 'other',\n",
       " 'myr',\n",
       " 'ago',\n",
       " 'and',\n",
       " 'the',\n",
       " 'collision',\n",
       " 'compress',\n",
       " 'the',\n",
       " 'interface',\n",
       " 'layer',\n",
       " 'trigger',\n",
       " 'the',\n",
       " 'formation',\n",
       " 'the',\n",
       " 'cluster',\n",
       " 'this',\n",
       " 'offer',\n",
       " 'additional',\n",
       " 'piece',\n",
       " 'evidence',\n",
       " 'for',\n",
       " 'super',\n",
       " 'star',\n",
       " 'cluster',\n",
       " 'form',\n",
       " 'cloud',\n",
       " 'cloud',\n",
       " 'collision',\n",
       " 'alongside',\n",
       " 'the',\n",
       " 'four',\n",
       " 'super',\n",
       " 'star',\n",
       " 'cluster',\n",
       " 'include',\n",
       " 'wd0',\n",
       " 'ngc0',\n",
       " 'rcw0',\n",
       " 'and',\n",
       " 'the',\n",
       " 'finding',\n",
       " 'indicate',\n",
       " 'that',\n",
       " 'the',\n",
       " 'know',\n",
       " 'super',\n",
       " 'star',\n",
       " 'cluster',\n",
       " 'have',\n",
       " 'closely',\n",
       " 'associate',\n",
       " 'dust',\n",
       " 'emission',\n",
       " 'be',\n",
       " 'form',\n",
       " 'cloud',\n",
       " 'cloud',\n",
       " 'collision',\n",
       " 'lending',\n",
       " 'support',\n",
       " 'for',\n",
       " 'the',\n",
       " 'important',\n",
       " 'role',\n",
       " 'cloud',\n",
       " 'cloud',\n",
       " 'collision',\n",
       " 'high',\n",
       " 'mass',\n",
       " 'star',\n",
       " 'formation']"
      ]
     },
     "execution_count": 15,
     "metadata": {},
     "output_type": "execute_result"
    }
   ],
   "source": [
    "df.loc[0,\"lemmatized_abstract\"]"
   ]
  },
  {
   "cell_type": "code",
   "execution_count": 16,
   "metadata": {},
   "outputs": [],
   "source": [
    "df = tfidf_features(df)"
   ]
  },
  {
   "cell_type": "code",
   "execution_count": 17,
   "metadata": {},
   "outputs": [
    {
     "data": {
      "text/html": [
       "<div>\n",
       "<style scoped>\n",
       "    .dataframe tbody tr th:only-of-type {\n",
       "        vertical-align: middle;\n",
       "    }\n",
       "\n",
       "    .dataframe tbody tr th {\n",
       "        vertical-align: top;\n",
       "    }\n",
       "\n",
       "    .dataframe thead th {\n",
       "        text-align: right;\n",
       "    }\n",
       "</style>\n",
       "<table border=\"1\" class=\"dataframe\">\n",
       "  <thead>\n",
       "    <tr style=\"text-align: right;\">\n",
       "      <th></th>\n",
       "      <th>0_</th>\n",
       "      <th>0a</th>\n",
       "      <th>0au</th>\n",
       "      <th>0b</th>\n",
       "      <th>0c</th>\n",
       "      <th>0c0</th>\n",
       "      <th>0cm</th>\n",
       "      <th>0co</th>\n",
       "      <th>0d</th>\n",
       "      <th>0deg</th>\n",
       "      <th>...</th>\n",
       "      <th>zel</th>\n",
       "      <th>zeldovich</th>\n",
       "      <th>zero</th>\n",
       "      <th>zeta</th>\n",
       "      <th>zhang</th>\n",
       "      <th>zone</th>\n",
       "      <th>zoo</th>\n",
       "      <th>zoom</th>\n",
       "      <th>ztf</th>\n",
       "      <th>zwicky</th>\n",
       "    </tr>\n",
       "  </thead>\n",
       "  <tbody>\n",
       "    <tr>\n",
       "      <th>0</th>\n",
       "      <td>0.0</td>\n",
       "      <td>0.0</td>\n",
       "      <td>0.0</td>\n",
       "      <td>0.0</td>\n",
       "      <td>0.0</td>\n",
       "      <td>0.0</td>\n",
       "      <td>0.0</td>\n",
       "      <td>0.151384</td>\n",
       "      <td>0.0</td>\n",
       "      <td>0.0</td>\n",
       "      <td>...</td>\n",
       "      <td>0.0</td>\n",
       "      <td>0.0</td>\n",
       "      <td>0.0</td>\n",
       "      <td>0.0</td>\n",
       "      <td>0.0</td>\n",
       "      <td>0.0</td>\n",
       "      <td>0.0</td>\n",
       "      <td>0.0</td>\n",
       "      <td>0.0</td>\n",
       "      <td>0.0</td>\n",
       "    </tr>\n",
       "  </tbody>\n",
       "</table>\n",
       "<p>1 rows × 4941 columns</p>\n",
       "</div>"
      ],
      "text/plain": [
       "    0_   0a  0au   0b   0c  0c0  0cm       0co   0d  0deg  ...  zel  \\\n",
       "0  0.0  0.0  0.0  0.0  0.0  0.0  0.0  0.151384  0.0   0.0  ...  0.0   \n",
       "\n",
       "   zeldovich  zero  zeta  zhang  zone  zoo  zoom  ztf  zwicky  \n",
       "0        0.0   0.0   0.0    0.0   0.0  0.0   0.0  0.0     0.0  \n",
       "\n",
       "[1 rows x 4941 columns]"
      ]
     },
     "execution_count": 17,
     "metadata": {},
     "output_type": "execute_result"
    }
   ],
   "source": [
    "df.iloc[0:1, 3:]"
   ]
  },
  {
   "cell_type": "markdown",
   "metadata": {},
   "source": [
    "## Classify"
   ]
  },
  {
   "cell_type": "code",
   "execution_count": 18,
   "metadata": {},
   "outputs": [
    {
     "name": "stdout",
     "output_type": "stream",
     "text": [
      "/Users/lucamasserano/Desktop/uni/cmu/statComp_36750/assignments-lucamasserano/classification-tree\n"
     ]
    }
   ],
   "source": [
    "cd .."
   ]
  },
  {
   "cell_type": "code",
   "execution_count": 78,
   "metadata": {},
   "outputs": [],
   "source": [
    "from luCART.classification_tree import tree\n",
    "from sklearn.decomposition import PCA\n",
    "from sklearn.metrics import confusion_matrix, ConfusionMatrixDisplay\n",
    "import matplotlib.pyplot as plt\n",
    "import numpy as np\n",
    "import pandas as pd"
   ]
  },
  {
   "cell_type": "code",
   "execution_count": 22,
   "metadata": {},
   "outputs": [],
   "source": [
    "data_set = df.drop(columns=['arxiv_abstract', 'lemmatized_abstract'])"
   ]
  },
  {
   "cell_type": "code",
   "execution_count": 23,
   "metadata": {},
   "outputs": [
    {
     "data": {
      "text/html": [
       "<div>\n",
       "<style scoped>\n",
       "    .dataframe tbody tr th:only-of-type {\n",
       "        vertical-align: middle;\n",
       "    }\n",
       "\n",
       "    .dataframe tbody tr th {\n",
       "        vertical-align: top;\n",
       "    }\n",
       "\n",
       "    .dataframe thead th {\n",
       "        text-align: right;\n",
       "    }\n",
       "</style>\n",
       "<table border=\"1\" class=\"dataframe\">\n",
       "  <thead>\n",
       "    <tr style=\"text-align: right;\">\n",
       "      <th></th>\n",
       "      <th>arxiv_category</th>\n",
       "      <th>0_</th>\n",
       "      <th>0a</th>\n",
       "      <th>0au</th>\n",
       "      <th>0b</th>\n",
       "      <th>0c</th>\n",
       "      <th>0c0</th>\n",
       "      <th>0cm</th>\n",
       "      <th>0co</th>\n",
       "      <th>0d</th>\n",
       "      <th>...</th>\n",
       "      <th>zel</th>\n",
       "      <th>zeldovich</th>\n",
       "      <th>zero</th>\n",
       "      <th>zeta</th>\n",
       "      <th>zhang</th>\n",
       "      <th>zone</th>\n",
       "      <th>zoo</th>\n",
       "      <th>zoom</th>\n",
       "      <th>ztf</th>\n",
       "      <th>zwicky</th>\n",
       "    </tr>\n",
       "  </thead>\n",
       "  <tbody>\n",
       "    <tr>\n",
       "      <th>0</th>\n",
       "      <td>astro-ph.GA</td>\n",
       "      <td>0.0</td>\n",
       "      <td>0.0</td>\n",
       "      <td>0.0</td>\n",
       "      <td>0.0</td>\n",
       "      <td>0.0</td>\n",
       "      <td>0.0</td>\n",
       "      <td>0.0</td>\n",
       "      <td>0.151384</td>\n",
       "      <td>0.0</td>\n",
       "      <td>...</td>\n",
       "      <td>0.0</td>\n",
       "      <td>0.0</td>\n",
       "      <td>0.0</td>\n",
       "      <td>0.0</td>\n",
       "      <td>0.0</td>\n",
       "      <td>0.0</td>\n",
       "      <td>0.0</td>\n",
       "      <td>0.0</td>\n",
       "      <td>0.0</td>\n",
       "      <td>0.0</td>\n",
       "    </tr>\n",
       "    <tr>\n",
       "      <th>1</th>\n",
       "      <td>astro-ph.GA</td>\n",
       "      <td>0.0</td>\n",
       "      <td>0.0</td>\n",
       "      <td>0.0</td>\n",
       "      <td>0.0</td>\n",
       "      <td>0.0</td>\n",
       "      <td>0.0</td>\n",
       "      <td>0.0</td>\n",
       "      <td>0.000000</td>\n",
       "      <td>0.0</td>\n",
       "      <td>...</td>\n",
       "      <td>0.0</td>\n",
       "      <td>0.0</td>\n",
       "      <td>0.0</td>\n",
       "      <td>0.0</td>\n",
       "      <td>0.0</td>\n",
       "      <td>0.0</td>\n",
       "      <td>0.0</td>\n",
       "      <td>0.0</td>\n",
       "      <td>0.0</td>\n",
       "      <td>0.0</td>\n",
       "    </tr>\n",
       "    <tr>\n",
       "      <th>2</th>\n",
       "      <td>astro-ph.GA</td>\n",
       "      <td>0.0</td>\n",
       "      <td>0.0</td>\n",
       "      <td>0.0</td>\n",
       "      <td>0.0</td>\n",
       "      <td>0.0</td>\n",
       "      <td>0.0</td>\n",
       "      <td>0.0</td>\n",
       "      <td>0.000000</td>\n",
       "      <td>0.0</td>\n",
       "      <td>...</td>\n",
       "      <td>0.0</td>\n",
       "      <td>0.0</td>\n",
       "      <td>0.0</td>\n",
       "      <td>0.0</td>\n",
       "      <td>0.0</td>\n",
       "      <td>0.0</td>\n",
       "      <td>0.0</td>\n",
       "      <td>0.0</td>\n",
       "      <td>0.0</td>\n",
       "      <td>0.0</td>\n",
       "    </tr>\n",
       "    <tr>\n",
       "      <th>3</th>\n",
       "      <td>astro-ph.GA</td>\n",
       "      <td>0.0</td>\n",
       "      <td>0.0</td>\n",
       "      <td>0.0</td>\n",
       "      <td>0.0</td>\n",
       "      <td>0.0</td>\n",
       "      <td>0.0</td>\n",
       "      <td>0.0</td>\n",
       "      <td>0.000000</td>\n",
       "      <td>0.0</td>\n",
       "      <td>...</td>\n",
       "      <td>0.0</td>\n",
       "      <td>0.0</td>\n",
       "      <td>0.0</td>\n",
       "      <td>0.0</td>\n",
       "      <td>0.0</td>\n",
       "      <td>0.0</td>\n",
       "      <td>0.0</td>\n",
       "      <td>0.0</td>\n",
       "      <td>0.0</td>\n",
       "      <td>0.0</td>\n",
       "    </tr>\n",
       "    <tr>\n",
       "      <th>4</th>\n",
       "      <td>astro-ph.GA</td>\n",
       "      <td>0.0</td>\n",
       "      <td>0.0</td>\n",
       "      <td>0.0</td>\n",
       "      <td>0.0</td>\n",
       "      <td>0.0</td>\n",
       "      <td>0.0</td>\n",
       "      <td>0.0</td>\n",
       "      <td>0.000000</td>\n",
       "      <td>0.0</td>\n",
       "      <td>...</td>\n",
       "      <td>0.0</td>\n",
       "      <td>0.0</td>\n",
       "      <td>0.0</td>\n",
       "      <td>0.0</td>\n",
       "      <td>0.0</td>\n",
       "      <td>0.0</td>\n",
       "      <td>0.0</td>\n",
       "      <td>0.0</td>\n",
       "      <td>0.0</td>\n",
       "      <td>0.0</td>\n",
       "    </tr>\n",
       "    <tr>\n",
       "      <th>...</th>\n",
       "      <td>...</td>\n",
       "      <td>...</td>\n",
       "      <td>...</td>\n",
       "      <td>...</td>\n",
       "      <td>...</td>\n",
       "      <td>...</td>\n",
       "      <td>...</td>\n",
       "      <td>...</td>\n",
       "      <td>...</td>\n",
       "      <td>...</td>\n",
       "      <td>...</td>\n",
       "      <td>...</td>\n",
       "      <td>...</td>\n",
       "      <td>...</td>\n",
       "      <td>...</td>\n",
       "      <td>...</td>\n",
       "      <td>...</td>\n",
       "      <td>...</td>\n",
       "      <td>...</td>\n",
       "      <td>...</td>\n",
       "      <td>...</td>\n",
       "    </tr>\n",
       "    <tr>\n",
       "      <th>5539</th>\n",
       "      <td>stat.TH</td>\n",
       "      <td>0.0</td>\n",
       "      <td>0.0</td>\n",
       "      <td>0.0</td>\n",
       "      <td>0.0</td>\n",
       "      <td>0.0</td>\n",
       "      <td>0.0</td>\n",
       "      <td>0.0</td>\n",
       "      <td>0.000000</td>\n",
       "      <td>0.0</td>\n",
       "      <td>...</td>\n",
       "      <td>0.0</td>\n",
       "      <td>0.0</td>\n",
       "      <td>0.0</td>\n",
       "      <td>0.0</td>\n",
       "      <td>0.0</td>\n",
       "      <td>0.0</td>\n",
       "      <td>0.0</td>\n",
       "      <td>0.0</td>\n",
       "      <td>0.0</td>\n",
       "      <td>0.0</td>\n",
       "    </tr>\n",
       "    <tr>\n",
       "      <th>5540</th>\n",
       "      <td>stat.TH</td>\n",
       "      <td>0.0</td>\n",
       "      <td>0.0</td>\n",
       "      <td>0.0</td>\n",
       "      <td>0.0</td>\n",
       "      <td>0.0</td>\n",
       "      <td>0.0</td>\n",
       "      <td>0.0</td>\n",
       "      <td>0.000000</td>\n",
       "      <td>0.0</td>\n",
       "      <td>...</td>\n",
       "      <td>0.0</td>\n",
       "      <td>0.0</td>\n",
       "      <td>0.0</td>\n",
       "      <td>0.0</td>\n",
       "      <td>0.0</td>\n",
       "      <td>0.0</td>\n",
       "      <td>0.0</td>\n",
       "      <td>0.0</td>\n",
       "      <td>0.0</td>\n",
       "      <td>0.0</td>\n",
       "    </tr>\n",
       "    <tr>\n",
       "      <th>5541</th>\n",
       "      <td>stat.TH</td>\n",
       "      <td>0.0</td>\n",
       "      <td>0.0</td>\n",
       "      <td>0.0</td>\n",
       "      <td>0.0</td>\n",
       "      <td>0.0</td>\n",
       "      <td>0.0</td>\n",
       "      <td>0.0</td>\n",
       "      <td>0.000000</td>\n",
       "      <td>0.0</td>\n",
       "      <td>...</td>\n",
       "      <td>0.0</td>\n",
       "      <td>0.0</td>\n",
       "      <td>0.0</td>\n",
       "      <td>0.0</td>\n",
       "      <td>0.0</td>\n",
       "      <td>0.0</td>\n",
       "      <td>0.0</td>\n",
       "      <td>0.0</td>\n",
       "      <td>0.0</td>\n",
       "      <td>0.0</td>\n",
       "    </tr>\n",
       "    <tr>\n",
       "      <th>5542</th>\n",
       "      <td>stat.TH</td>\n",
       "      <td>0.0</td>\n",
       "      <td>0.0</td>\n",
       "      <td>0.0</td>\n",
       "      <td>0.0</td>\n",
       "      <td>0.0</td>\n",
       "      <td>0.0</td>\n",
       "      <td>0.0</td>\n",
       "      <td>0.000000</td>\n",
       "      <td>0.0</td>\n",
       "      <td>...</td>\n",
       "      <td>0.0</td>\n",
       "      <td>0.0</td>\n",
       "      <td>0.0</td>\n",
       "      <td>0.0</td>\n",
       "      <td>0.0</td>\n",
       "      <td>0.0</td>\n",
       "      <td>0.0</td>\n",
       "      <td>0.0</td>\n",
       "      <td>0.0</td>\n",
       "      <td>0.0</td>\n",
       "    </tr>\n",
       "    <tr>\n",
       "      <th>5543</th>\n",
       "      <td>stat.TH</td>\n",
       "      <td>0.0</td>\n",
       "      <td>0.0</td>\n",
       "      <td>0.0</td>\n",
       "      <td>0.0</td>\n",
       "      <td>0.0</td>\n",
       "      <td>0.0</td>\n",
       "      <td>0.0</td>\n",
       "      <td>0.000000</td>\n",
       "      <td>0.0</td>\n",
       "      <td>...</td>\n",
       "      <td>0.0</td>\n",
       "      <td>0.0</td>\n",
       "      <td>0.0</td>\n",
       "      <td>0.0</td>\n",
       "      <td>0.0</td>\n",
       "      <td>0.0</td>\n",
       "      <td>0.0</td>\n",
       "      <td>0.0</td>\n",
       "      <td>0.0</td>\n",
       "      <td>0.0</td>\n",
       "    </tr>\n",
       "  </tbody>\n",
       "</table>\n",
       "<p>5544 rows × 4942 columns</p>\n",
       "</div>"
      ],
      "text/plain": [
       "     arxiv_category   0_   0a  0au   0b   0c  0c0  0cm       0co   0d  ...  \\\n",
       "0       astro-ph.GA  0.0  0.0  0.0  0.0  0.0  0.0  0.0  0.151384  0.0  ...   \n",
       "1       astro-ph.GA  0.0  0.0  0.0  0.0  0.0  0.0  0.0  0.000000  0.0  ...   \n",
       "2       astro-ph.GA  0.0  0.0  0.0  0.0  0.0  0.0  0.0  0.000000  0.0  ...   \n",
       "3       astro-ph.GA  0.0  0.0  0.0  0.0  0.0  0.0  0.0  0.000000  0.0  ...   \n",
       "4       astro-ph.GA  0.0  0.0  0.0  0.0  0.0  0.0  0.0  0.000000  0.0  ...   \n",
       "...             ...  ...  ...  ...  ...  ...  ...  ...       ...  ...  ...   \n",
       "5539        stat.TH  0.0  0.0  0.0  0.0  0.0  0.0  0.0  0.000000  0.0  ...   \n",
       "5540        stat.TH  0.0  0.0  0.0  0.0  0.0  0.0  0.0  0.000000  0.0  ...   \n",
       "5541        stat.TH  0.0  0.0  0.0  0.0  0.0  0.0  0.0  0.000000  0.0  ...   \n",
       "5542        stat.TH  0.0  0.0  0.0  0.0  0.0  0.0  0.0  0.000000  0.0  ...   \n",
       "5543        stat.TH  0.0  0.0  0.0  0.0  0.0  0.0  0.0  0.000000  0.0  ...   \n",
       "\n",
       "      zel  zeldovich  zero  zeta  zhang  zone  zoo  zoom  ztf  zwicky  \n",
       "0     0.0        0.0   0.0   0.0    0.0   0.0  0.0   0.0  0.0     0.0  \n",
       "1     0.0        0.0   0.0   0.0    0.0   0.0  0.0   0.0  0.0     0.0  \n",
       "2     0.0        0.0   0.0   0.0    0.0   0.0  0.0   0.0  0.0     0.0  \n",
       "3     0.0        0.0   0.0   0.0    0.0   0.0  0.0   0.0  0.0     0.0  \n",
       "4     0.0        0.0   0.0   0.0    0.0   0.0  0.0   0.0  0.0     0.0  \n",
       "...   ...        ...   ...   ...    ...   ...  ...   ...  ...     ...  \n",
       "5539  0.0        0.0   0.0   0.0    0.0   0.0  0.0   0.0  0.0     0.0  \n",
       "5540  0.0        0.0   0.0   0.0    0.0   0.0  0.0   0.0  0.0     0.0  \n",
       "5541  0.0        0.0   0.0   0.0    0.0   0.0  0.0   0.0  0.0     0.0  \n",
       "5542  0.0        0.0   0.0   0.0    0.0   0.0  0.0   0.0  0.0     0.0  \n",
       "5543  0.0        0.0   0.0   0.0    0.0   0.0  0.0   0.0  0.0     0.0  \n",
       "\n",
       "[5544 rows x 4942 columns]"
      ]
     },
     "execution_count": 23,
     "metadata": {},
     "output_type": "execute_result"
    }
   ],
   "source": [
    "data_set"
   ]
  },
  {
   "cell_type": "markdown",
   "metadata": {},
   "source": [
    "### PCA"
   ]
  },
  {
   "cell_type": "code",
   "execution_count": 56,
   "metadata": {},
   "outputs": [
    {
     "data": {
      "text/plain": [
       "(5544, 10)"
      ]
     },
     "execution_count": 56,
     "metadata": {},
     "output_type": "execute_result"
    }
   ],
   "source": [
    "pca = PCA(n_components=10, svd_solver=\"full\")\n",
    "transformed_input = pca.fit_transform(X=data_set.drop(columns=\"arxiv_category\"))\n",
    "transformed_input.shape"
   ]
  },
  {
   "cell_type": "code",
   "execution_count": 57,
   "metadata": {},
   "outputs": [
    {
     "data": {
      "text/plain": [
       "array([[-1.24356652e-01,  1.83449635e-02,  3.46186557e-03, ...,\n",
       "        -1.83602655e-01, -6.09254731e-02,  1.91560379e-04],\n",
       "       [-3.34556601e-02,  9.88640850e-02, -7.13628716e-04, ...,\n",
       "         6.65301291e-02,  5.74921925e-02, -5.21052427e-02],\n",
       "       [-1.25227126e-01,  1.30595956e-01, -8.57562047e-02, ...,\n",
       "         1.01531619e-02, -6.69940781e-02,  1.43329927e-01],\n",
       "       ...,\n",
       "       [ 2.25767656e-01, -3.61926508e-03, -2.16251336e-02, ...,\n",
       "        -5.98294977e-02,  2.77243024e-02,  6.30804784e-02],\n",
       "       [ 1.61430237e-01,  3.57571271e-02,  1.83881042e-03, ...,\n",
       "        -7.26291831e-03, -6.10760164e-02,  4.98368241e-02],\n",
       "       [ 2.77351237e-01, -1.06746097e-02, -5.90280060e-02, ...,\n",
       "        -2.95286369e-02,  8.21817644e-02,  1.34295265e-02]])"
      ]
     },
     "execution_count": 57,
     "metadata": {},
     "output_type": "execute_result"
    }
   ],
   "source": [
    "transformed_input"
   ]
  },
  {
   "cell_type": "code",
   "execution_count": 58,
   "metadata": {},
   "outputs": [
    {
     "data": {
      "text/html": [
       "<div>\n",
       "<style scoped>\n",
       "    .dataframe tbody tr th:only-of-type {\n",
       "        vertical-align: middle;\n",
       "    }\n",
       "\n",
       "    .dataframe tbody tr th {\n",
       "        vertical-align: top;\n",
       "    }\n",
       "\n",
       "    .dataframe thead th {\n",
       "        text-align: right;\n",
       "    }\n",
       "</style>\n",
       "<table border=\"1\" class=\"dataframe\">\n",
       "  <thead>\n",
       "    <tr style=\"text-align: right;\">\n",
       "      <th></th>\n",
       "      <th>arxiv_category</th>\n",
       "      <th>pc0</th>\n",
       "      <th>pc1</th>\n",
       "      <th>pc2</th>\n",
       "      <th>pc3</th>\n",
       "      <th>pc4</th>\n",
       "      <th>pc5</th>\n",
       "      <th>pc6</th>\n",
       "      <th>pc7</th>\n",
       "      <th>pc8</th>\n",
       "      <th>pc9</th>\n",
       "    </tr>\n",
       "  </thead>\n",
       "  <tbody>\n",
       "    <tr>\n",
       "      <th>0</th>\n",
       "      <td>astro-ph.GA</td>\n",
       "      <td>-0.124357</td>\n",
       "      <td>0.018345</td>\n",
       "      <td>0.003462</td>\n",
       "      <td>-0.160158</td>\n",
       "      <td>-0.003441</td>\n",
       "      <td>-0.060600</td>\n",
       "      <td>-0.034262</td>\n",
       "      <td>-0.183603</td>\n",
       "      <td>-0.060925</td>\n",
       "      <td>0.000192</td>\n",
       "    </tr>\n",
       "    <tr>\n",
       "      <th>1</th>\n",
       "      <td>astro-ph.GA</td>\n",
       "      <td>-0.033456</td>\n",
       "      <td>0.098864</td>\n",
       "      <td>-0.000714</td>\n",
       "      <td>0.027339</td>\n",
       "      <td>0.082369</td>\n",
       "      <td>-0.027508</td>\n",
       "      <td>0.032476</td>\n",
       "      <td>0.066530</td>\n",
       "      <td>0.057492</td>\n",
       "      <td>-0.052105</td>\n",
       "    </tr>\n",
       "    <tr>\n",
       "      <th>2</th>\n",
       "      <td>astro-ph.GA</td>\n",
       "      <td>-0.125227</td>\n",
       "      <td>0.130596</td>\n",
       "      <td>-0.085756</td>\n",
       "      <td>-0.111373</td>\n",
       "      <td>-0.129115</td>\n",
       "      <td>0.053287</td>\n",
       "      <td>0.057295</td>\n",
       "      <td>0.010153</td>\n",
       "      <td>-0.066994</td>\n",
       "      <td>0.143330</td>\n",
       "    </tr>\n",
       "    <tr>\n",
       "      <th>3</th>\n",
       "      <td>astro-ph.GA</td>\n",
       "      <td>-0.003420</td>\n",
       "      <td>-0.077231</td>\n",
       "      <td>-0.087693</td>\n",
       "      <td>0.032592</td>\n",
       "      <td>0.099988</td>\n",
       "      <td>0.201855</td>\n",
       "      <td>-0.021669</td>\n",
       "      <td>0.043218</td>\n",
       "      <td>-0.031173</td>\n",
       "      <td>0.033789</td>\n",
       "    </tr>\n",
       "    <tr>\n",
       "      <th>4</th>\n",
       "      <td>astro-ph.GA</td>\n",
       "      <td>-0.070185</td>\n",
       "      <td>0.140611</td>\n",
       "      <td>0.022308</td>\n",
       "      <td>-0.052804</td>\n",
       "      <td>0.044839</td>\n",
       "      <td>-0.053163</td>\n",
       "      <td>0.025956</td>\n",
       "      <td>0.037924</td>\n",
       "      <td>-0.016901</td>\n",
       "      <td>-0.055558</td>\n",
       "    </tr>\n",
       "  </tbody>\n",
       "</table>\n",
       "</div>"
      ],
      "text/plain": [
       "  arxiv_category       pc0       pc1       pc2       pc3       pc4       pc5  \\\n",
       "0    astro-ph.GA -0.124357  0.018345  0.003462 -0.160158 -0.003441 -0.060600   \n",
       "1    astro-ph.GA -0.033456  0.098864 -0.000714  0.027339  0.082369 -0.027508   \n",
       "2    astro-ph.GA -0.125227  0.130596 -0.085756 -0.111373 -0.129115  0.053287   \n",
       "3    astro-ph.GA -0.003420 -0.077231 -0.087693  0.032592  0.099988  0.201855   \n",
       "4    astro-ph.GA -0.070185  0.140611  0.022308 -0.052804  0.044839 -0.053163   \n",
       "\n",
       "        pc6       pc7       pc8       pc9  \n",
       "0 -0.034262 -0.183603 -0.060925  0.000192  \n",
       "1  0.032476  0.066530  0.057492 -0.052105  \n",
       "2  0.057295  0.010153 -0.066994  0.143330  \n",
       "3 -0.021669  0.043218 -0.031173  0.033789  \n",
       "4  0.025956  0.037924 -0.016901 -0.055558  "
      ]
     },
     "execution_count": 58,
     "metadata": {},
     "output_type": "execute_result"
    }
   ],
   "source": [
    "dataset = pd.concat([data_set.loc[:, [\"arxiv_category\"]], \n",
    "                     pd.DataFrame(transformed_input, columns=[f\"pc{i}\" for i in range(transformed_input.shape[1])])],\n",
    "                    axis=1) \n",
    "dataset.head()"
   ]
  },
  {
   "cell_type": "markdown",
   "metadata": {},
   "source": [
    "### Split train test"
   ]
  },
  {
   "cell_type": "code",
   "execution_count": 59,
   "metadata": {},
   "outputs": [],
   "source": [
    "def train_test_split(df, train_size):\n",
    "    \n",
    "    shuffled_indeces = np.random.permutation(df.index)\n",
    "    index_end_train = int(np.floor(len(shuffled_indeces)*train_size))\n",
    "    \n",
    "    train_set, test_set = df.loc[shuffled_indeces[:index_end_train], :], df.loc[shuffled_indeces[index_end_train:], :]\n",
    "    \n",
    "    return train_set, test_set"
   ]
  },
  {
   "cell_type": "code",
   "execution_count": 102,
   "metadata": {},
   "outputs": [],
   "source": [
    "train_set, test_set = train_test_split(dataset, 0.7)"
   ]
  },
  {
   "cell_type": "code",
   "execution_count": 103,
   "metadata": {},
   "outputs": [
    {
     "data": {
      "text/plain": [
       "((3880, 11), (1664, 11))"
      ]
     },
     "execution_count": 103,
     "metadata": {},
     "output_type": "execute_result"
    }
   ],
   "source": [
    "train_set.shape, test_set.shape"
   ]
  },
  {
   "cell_type": "markdown",
   "metadata": {},
   "source": [
    "### Classification Tree"
   ]
  },
  {
   "cell_type": "code",
   "execution_count": 106,
   "metadata": {},
   "outputs": [],
   "source": [
    "clf_tree = tree.ClassificationTree(impurity_function=\"gini\", data_source_type=\"dataframe\", min_datapoints_split=25)"
   ]
  },
  {
   "cell_type": "markdown",
   "metadata": {},
   "source": [
    "This took a very long time to fit. With ~5500 observations and 11 columns (in the PCA-transformed space) several minutes are required. Nonetheless the classifier performed really well for the categories \"astro-ph.GA\" and \"stat.TH\", as we can see below. This is probably due to the fact that the two categories are quite different in terms of topics and words used. Moreover, tfidf scores provide a good deal of information regarding the language used, as reflected in the high explanatory power."
   ]
  },
  {
   "cell_type": "code",
   "execution_count": 107,
   "metadata": {},
   "outputs": [],
   "source": [
    "clf_tree.fit(data=train_set, label=\"arxiv_category\")"
   ]
  },
  {
   "cell_type": "code",
   "execution_count": 108,
   "metadata": {
    "scrolled": true
   },
   "outputs": [
    {
     "name": "stdout",
     "output_type": "stream",
     "text": [
      "root\n",
      "left:\n",
      "  pc0 < 0.0826206230240695\n",
      "  left:\n",
      "    pc0 < 0.06624913158974371\n",
      "  right:\n",
      "    pc0 >= 0.06624913158974371\n",
      "    left:\n",
      "      pc8 < -0.02014750700391553\n",
      "    right:\n",
      "      pc8 >= -0.02014750700391553\n",
      "right:\n",
      "  pc0 >= 0.0826206230240695\n",
      "  left:\n",
      "    pc5 < 0.04861984223387446\n",
      "    left:\n",
      "      pc2 < 0.05301232286816154\n",
      "      left:\n",
      "        pc0 < 0.11685830310965502\n",
      "        left:\n",
      "          pc9 < -0.030351292722675893\n",
      "        right:\n",
      "          pc9 >= -0.030351292722675893\n",
      "          left:\n",
      "            pc6 < -0.05072272607993797\n",
      "          right:\n",
      "            pc6 >= -0.05072272607993797\n",
      "            left:\n",
      "              pc2 < -0.04419961111756422\n",
      "            right:\n",
      "              pc2 >= -0.04419961111756422\n",
      "              left:\n",
      "                pc3 < -0.04066437007743569\n",
      "              right:\n",
      "                pc3 >= -0.04066437007743569\n",
      "      right:\n",
      "        pc0 >= 0.11685830310965502\n",
      "        left:\n",
      "          pc3 < 0.059983432578580326\n",
      "          left:\n",
      "            pc7 < 0.032955790299872834\n",
      "            left:\n",
      "              pc4 < 0.021017270512127834\n",
      "            right:\n",
      "              pc4 >= 0.021017270512127834\n",
      "              left:\n",
      "                pc4 < 0.021643011935117293\n",
      "              right:\n",
      "                pc4 >= 0.021643011935117293\n",
      "          right:\n",
      "            pc7 >= 0.032955790299872834\n",
      "            left:\n",
      "              pc3 < 0.02847963391919318\n",
      "            right:\n",
      "              pc3 >= 0.02847963391919318\n",
      "        right:\n",
      "          pc3 >= 0.059983432578580326\n",
      "    right:\n",
      "      pc2 >= 0.05301232286816154\n",
      "  right:\n",
      "    pc5 >= 0.04861984223387446\n"
     ]
    }
   ],
   "source": [
    "clf_tree.show(clf_tree.root)"
   ]
  },
  {
   "cell_type": "code",
   "execution_count": 109,
   "metadata": {},
   "outputs": [],
   "source": [
    "predictions = clf_tree.predict(new_data=test_set.drop(columns=\"arxiv_category\"))"
   ]
  },
  {
   "cell_type": "code",
   "execution_count": 87,
   "metadata": {},
   "outputs": [
    {
     "data": {
      "image/png": "[encoded data removed]",
      "text/plain": [
       "<Figure size 432x288 with 2 Axes>"
      ]
     },
     "metadata": {
      "needs_background": "light"
     },
     "output_type": "display_data"
    }
   ],
   "source": [
    "cm = confusion_matrix(y_true=clf_tree.label_encoder.transform(test_set.arxiv_category), \n",
    "                      y_pred=predictions)\n",
    "display = ConfusionMatrixDisplay(confusion_matrix=cm, \n",
    "                                 display_labels=['astro-ph.GA', 'stat.TH'])\n",
    "display = display.plot(include_values=True,\n",
    "                       cmap=\"viridis\", ax=None, xticks_rotation=\"horizontal\")\n",
    "plt.show()"
   ]
  },
  {
   "cell_type": "code",
   "execution_count": null,
   "metadata": {},
   "outputs": [],
   "source": []
  }
 ],
 "metadata": {
  "kernelspec": {
   "display_name": "Python 3",
   "language": "python",
   "name": "python3"
  },
  "language_info": {
   "codemirror_mode": {
    "name": "ipython",
    "version": 3
   },
   "file_extension": ".py",
   "mimetype": "text/x-python",
   "name": "python",
   "nbconvert_exporter": "python",
   "pygments_lexer": "ipython3",
   "version": "3.8.3"
  }
 },
 "nbformat": 4,
 "nbformat_minor": 4
}
